{
 "cells": [
  {
   "cell_type": "markdown",
   "id": "09c086eb",
   "metadata": {},
   "source": [
    "# CSC635_HW1_Sujung Choi"
   ]
  },
  {
   "cell_type": "markdown",
   "id": "599b7f9a",
   "metadata": {},
   "source": [
    "1.\tLoad the data in a DataFrame (DF) named tips. Assume all files are in the same folder as your python notebook. "
   ]
  },
  {
   "cell_type": "code",
   "execution_count": 2,
   "id": "f5c6ea20",
   "metadata": {},
   "outputs": [],
   "source": [
    "import pandas as pd\n",
    "data_filename = 'tips.csv'\n",
    "tips = pd.read_csv(data_filename)"
   ]
  },
  {
   "cell_type": "markdown",
   "id": "a806d95f",
   "metadata": {},
   "source": [
    "2.\tFind the names of the columns.  "
   ]
  },
  {
   "cell_type": "code",
   "execution_count": 3,
   "id": "37475cbd",
   "metadata": {},
   "outputs": [
    {
     "data": {
      "text/plain": [
       "Index(['total_bill', 'tip', 'sex', 'smoker', 'day', 'time', 'size'], dtype='object')"
      ]
     },
     "execution_count": 3,
     "metadata": {},
     "output_type": "execute_result"
    }
   ],
   "source": [
    "tips.columns"
   ]
  },
  {
   "cell_type": "markdown",
   "id": "4f2fa936",
   "metadata": {},
   "source": [
    "3.\tRename the columns “time” as “meal” and “size” as “party size”. "
   ]
  },
  {
   "cell_type": "code",
   "execution_count": 4,
   "id": "438739f7",
   "metadata": {},
   "outputs": [
    {
     "data": {
      "text/html": [
       "<div>\n",
       "<style scoped>\n",
       "    .dataframe tbody tr th:only-of-type {\n",
       "        vertical-align: middle;\n",
       "    }\n",
       "\n",
       "    .dataframe tbody tr th {\n",
       "        vertical-align: top;\n",
       "    }\n",
       "\n",
       "    .dataframe thead th {\n",
       "        text-align: right;\n",
       "    }\n",
       "</style>\n",
       "<table border=\"1\" class=\"dataframe\">\n",
       "  <thead>\n",
       "    <tr style=\"text-align: right;\">\n",
       "      <th></th>\n",
       "      <th>total_bill</th>\n",
       "      <th>tip</th>\n",
       "      <th>sex</th>\n",
       "      <th>smoker</th>\n",
       "      <th>day</th>\n",
       "      <th>meal</th>\n",
       "      <th>party size</th>\n",
       "    </tr>\n",
       "  </thead>\n",
       "  <tbody>\n",
       "  </tbody>\n",
       "</table>\n",
       "</div>"
      ],
      "text/plain": [
       "Empty DataFrame\n",
       "Columns: [total_bill, tip, sex, smoker, day, meal, party size]\n",
       "Index: []"
      ]
     },
     "execution_count": 4,
     "metadata": {},
     "output_type": "execute_result"
    }
   ],
   "source": [
    "tips.rename(columns = {'time':'meal', 'size':'party size'}, inplace = True)\n",
    "tips.head(0)"
   ]
  },
  {
   "cell_type": "markdown",
   "id": "a995cd60",
   "metadata": {},
   "source": [
    "4.\tUse the head function to view parts of the data. "
   ]
  },
  {
   "cell_type": "code",
   "execution_count": 5,
   "id": "6d0485df",
   "metadata": {},
   "outputs": [
    {
     "data": {
      "text/html": [
       "<div>\n",
       "<style scoped>\n",
       "    .dataframe tbody tr th:only-of-type {\n",
       "        vertical-align: middle;\n",
       "    }\n",
       "\n",
       "    .dataframe tbody tr th {\n",
       "        vertical-align: top;\n",
       "    }\n",
       "\n",
       "    .dataframe thead th {\n",
       "        text-align: right;\n",
       "    }\n",
       "</style>\n",
       "<table border=\"1\" class=\"dataframe\">\n",
       "  <thead>\n",
       "    <tr style=\"text-align: right;\">\n",
       "      <th></th>\n",
       "      <th>total_bill</th>\n",
       "      <th>tip</th>\n",
       "      <th>sex</th>\n",
       "      <th>smoker</th>\n",
       "      <th>day</th>\n",
       "      <th>meal</th>\n",
       "      <th>party size</th>\n",
       "    </tr>\n",
       "  </thead>\n",
       "  <tbody>\n",
       "    <tr>\n",
       "      <th>0</th>\n",
       "      <td>16.99</td>\n",
       "      <td>1.01</td>\n",
       "      <td>Female</td>\n",
       "      <td>No</td>\n",
       "      <td>Sun</td>\n",
       "      <td>Dinner</td>\n",
       "      <td>2</td>\n",
       "    </tr>\n",
       "    <tr>\n",
       "      <th>1</th>\n",
       "      <td>10.34</td>\n",
       "      <td>1.66</td>\n",
       "      <td>Male</td>\n",
       "      <td>No</td>\n",
       "      <td>Sun</td>\n",
       "      <td>Dinner</td>\n",
       "      <td>3</td>\n",
       "    </tr>\n",
       "    <tr>\n",
       "      <th>2</th>\n",
       "      <td>21.01</td>\n",
       "      <td>3.50</td>\n",
       "      <td>Male</td>\n",
       "      <td>No</td>\n",
       "      <td>Sun</td>\n",
       "      <td>Dinner</td>\n",
       "      <td>3</td>\n",
       "    </tr>\n",
       "    <tr>\n",
       "      <th>3</th>\n",
       "      <td>23.68</td>\n",
       "      <td>3.31</td>\n",
       "      <td>Male</td>\n",
       "      <td>No</td>\n",
       "      <td>Sun</td>\n",
       "      <td>Dinner</td>\n",
       "      <td>2</td>\n",
       "    </tr>\n",
       "    <tr>\n",
       "      <th>4</th>\n",
       "      <td>24.59</td>\n",
       "      <td>3.61</td>\n",
       "      <td>Female</td>\n",
       "      <td>No</td>\n",
       "      <td>Sun</td>\n",
       "      <td>Dinner</td>\n",
       "      <td>4</td>\n",
       "    </tr>\n",
       "  </tbody>\n",
       "</table>\n",
       "</div>"
      ],
      "text/plain": [
       "   total_bill   tip     sex smoker  day    meal  party size\n",
       "0       16.99  1.01  Female     No  Sun  Dinner           2\n",
       "1       10.34  1.66    Male     No  Sun  Dinner           3\n",
       "2       21.01  3.50    Male     No  Sun  Dinner           3\n",
       "3       23.68  3.31    Male     No  Sun  Dinner           2\n",
       "4       24.59  3.61  Female     No  Sun  Dinner           4"
      ]
     },
     "execution_count": 5,
     "metadata": {},
     "output_type": "execute_result"
    }
   ],
   "source": [
    "tips.head()"
   ]
  },
  {
   "cell_type": "markdown",
   "id": "bbb7e507",
   "metadata": {},
   "source": [
    "5.\tRetrieve the information in the second and third rows using two different methods (you can use .loc, .iloc, or the slicing notation, :)."
   ]
  },
  {
   "cell_type": "code",
   "execution_count": 6,
   "id": "dcf4427d",
   "metadata": {},
   "outputs": [
    {
     "data": {
      "text/html": [
       "<div>\n",
       "<style scoped>\n",
       "    .dataframe tbody tr th:only-of-type {\n",
       "        vertical-align: middle;\n",
       "    }\n",
       "\n",
       "    .dataframe tbody tr th {\n",
       "        vertical-align: top;\n",
       "    }\n",
       "\n",
       "    .dataframe thead th {\n",
       "        text-align: right;\n",
       "    }\n",
       "</style>\n",
       "<table border=\"1\" class=\"dataframe\">\n",
       "  <thead>\n",
       "    <tr style=\"text-align: right;\">\n",
       "      <th></th>\n",
       "      <th>total_bill</th>\n",
       "      <th>tip</th>\n",
       "      <th>sex</th>\n",
       "      <th>smoker</th>\n",
       "      <th>day</th>\n",
       "      <th>meal</th>\n",
       "      <th>party size</th>\n",
       "    </tr>\n",
       "  </thead>\n",
       "  <tbody>\n",
       "    <tr>\n",
       "      <th>1</th>\n",
       "      <td>10.34</td>\n",
       "      <td>1.66</td>\n",
       "      <td>Male</td>\n",
       "      <td>No</td>\n",
       "      <td>Sun</td>\n",
       "      <td>Dinner</td>\n",
       "      <td>3</td>\n",
       "    </tr>\n",
       "    <tr>\n",
       "      <th>2</th>\n",
       "      <td>21.01</td>\n",
       "      <td>3.50</td>\n",
       "      <td>Male</td>\n",
       "      <td>No</td>\n",
       "      <td>Sun</td>\n",
       "      <td>Dinner</td>\n",
       "      <td>3</td>\n",
       "    </tr>\n",
       "  </tbody>\n",
       "</table>\n",
       "</div>"
      ],
      "text/plain": [
       "   total_bill   tip   sex smoker  day    meal  party size\n",
       "1       10.34  1.66  Male     No  Sun  Dinner           3\n",
       "2       21.01  3.50  Male     No  Sun  Dinner           3"
      ]
     },
     "execution_count": 6,
     "metadata": {},
     "output_type": "execute_result"
    }
   ],
   "source": [
    "tips.iloc[1:3]\n",
    "tips.loc[1:2]"
   ]
  },
  {
   "cell_type": "markdown",
   "id": "7fe19a4f",
   "metadata": {},
   "source": [
    "6.\tRetrieve the information in the first and second columns (i.e., under total_bill and tip). Use the head function to display the first three rows under these two columns."
   ]
  },
  {
   "cell_type": "code",
   "execution_count": 7,
   "id": "03569450",
   "metadata": {},
   "outputs": [
    {
     "data": {
      "text/html": [
       "<div>\n",
       "<style scoped>\n",
       "    .dataframe tbody tr th:only-of-type {\n",
       "        vertical-align: middle;\n",
       "    }\n",
       "\n",
       "    .dataframe tbody tr th {\n",
       "        vertical-align: top;\n",
       "    }\n",
       "\n",
       "    .dataframe thead th {\n",
       "        text-align: right;\n",
       "    }\n",
       "</style>\n",
       "<table border=\"1\" class=\"dataframe\">\n",
       "  <thead>\n",
       "    <tr style=\"text-align: right;\">\n",
       "      <th></th>\n",
       "      <th>total_bill</th>\n",
       "      <th>tip</th>\n",
       "    </tr>\n",
       "  </thead>\n",
       "  <tbody>\n",
       "    <tr>\n",
       "      <th>0</th>\n",
       "      <td>16.99</td>\n",
       "      <td>1.01</td>\n",
       "    </tr>\n",
       "    <tr>\n",
       "      <th>1</th>\n",
       "      <td>10.34</td>\n",
       "      <td>1.66</td>\n",
       "    </tr>\n",
       "    <tr>\n",
       "      <th>2</th>\n",
       "      <td>21.01</td>\n",
       "      <td>3.50</td>\n",
       "    </tr>\n",
       "  </tbody>\n",
       "</table>\n",
       "</div>"
      ],
      "text/plain": [
       "   total_bill   tip\n",
       "0       16.99  1.01\n",
       "1       10.34  1.66\n",
       "2       21.01  3.50"
      ]
     },
     "execution_count": 7,
     "metadata": {},
     "output_type": "execute_result"
    }
   ],
   "source": [
    "tips[['total_bill', 'tip']].head(3)"
   ]
  },
  {
   "cell_type": "markdown",
   "id": "a2745331",
   "metadata": {},
   "source": [
    "7.\tGet the information stored in the cell at the intersection of the second row and third column. I.e., what is the sex of the customer (that paid for the meal) that is stored in the second row of the DF? "
   ]
  },
  {
   "cell_type": "code",
   "execution_count": 8,
   "id": "1a4a9fc8",
   "metadata": {},
   "outputs": [
    {
     "data": {
      "text/plain": [
       "'Male'"
      ]
     },
     "execution_count": 8,
     "metadata": {},
     "output_type": "execute_result"
    }
   ],
   "source": [
    "tips.iloc[1,2]"
   ]
  },
  {
   "cell_type": "markdown",
   "id": "125f12aa",
   "metadata": {},
   "source": [
    "8.\tFind the number of observations in the dataset.  "
   ]
  },
  {
   "cell_type": "code",
   "execution_count": 9,
   "id": "2e8510b2",
   "metadata": {},
   "outputs": [
    {
     "data": {
      "text/plain": [
       "total_bill    244\n",
       "tip           244\n",
       "sex           244\n",
       "smoker        244\n",
       "day           244\n",
       "meal          244\n",
       "party size    244\n",
       "dtype: int64"
      ]
     },
     "execution_count": 9,
     "metadata": {},
     "output_type": "execute_result"
    }
   ],
   "source": [
    "tips.count()"
   ]
  },
  {
   "cell_type": "markdown",
   "id": "113eb09d",
   "metadata": {},
   "source": [
    "9. Use the describe function to get basic statistics about the numerical attributes."
   ]
  },
  {
   "cell_type": "code",
   "execution_count": 10,
   "id": "dfc78c4e",
   "metadata": {},
   "outputs": [
    {
     "data": {
      "text/html": [
       "<div>\n",
       "<style scoped>\n",
       "    .dataframe tbody tr th:only-of-type {\n",
       "        vertical-align: middle;\n",
       "    }\n",
       "\n",
       "    .dataframe tbody tr th {\n",
       "        vertical-align: top;\n",
       "    }\n",
       "\n",
       "    .dataframe thead th {\n",
       "        text-align: right;\n",
       "    }\n",
       "</style>\n",
       "<table border=\"1\" class=\"dataframe\">\n",
       "  <thead>\n",
       "    <tr style=\"text-align: right;\">\n",
       "      <th></th>\n",
       "      <th>total_bill</th>\n",
       "      <th>tip</th>\n",
       "      <th>party size</th>\n",
       "    </tr>\n",
       "  </thead>\n",
       "  <tbody>\n",
       "    <tr>\n",
       "      <th>count</th>\n",
       "      <td>244.000000</td>\n",
       "      <td>244.000000</td>\n",
       "      <td>244.000000</td>\n",
       "    </tr>\n",
       "    <tr>\n",
       "      <th>mean</th>\n",
       "      <td>19.785943</td>\n",
       "      <td>2.998279</td>\n",
       "      <td>2.569672</td>\n",
       "    </tr>\n",
       "    <tr>\n",
       "      <th>std</th>\n",
       "      <td>8.902412</td>\n",
       "      <td>1.383638</td>\n",
       "      <td>0.951100</td>\n",
       "    </tr>\n",
       "    <tr>\n",
       "      <th>min</th>\n",
       "      <td>3.070000</td>\n",
       "      <td>1.000000</td>\n",
       "      <td>1.000000</td>\n",
       "    </tr>\n",
       "    <tr>\n",
       "      <th>25%</th>\n",
       "      <td>13.347500</td>\n",
       "      <td>2.000000</td>\n",
       "      <td>2.000000</td>\n",
       "    </tr>\n",
       "    <tr>\n",
       "      <th>50%</th>\n",
       "      <td>17.795000</td>\n",
       "      <td>2.900000</td>\n",
       "      <td>2.000000</td>\n",
       "    </tr>\n",
       "    <tr>\n",
       "      <th>75%</th>\n",
       "      <td>24.127500</td>\n",
       "      <td>3.562500</td>\n",
       "      <td>3.000000</td>\n",
       "    </tr>\n",
       "    <tr>\n",
       "      <th>max</th>\n",
       "      <td>50.810000</td>\n",
       "      <td>10.000000</td>\n",
       "      <td>6.000000</td>\n",
       "    </tr>\n",
       "  </tbody>\n",
       "</table>\n",
       "</div>"
      ],
      "text/plain": [
       "       total_bill         tip  party size\n",
       "count  244.000000  244.000000  244.000000\n",
       "mean    19.785943    2.998279    2.569672\n",
       "std      8.902412    1.383638    0.951100\n",
       "min      3.070000    1.000000    1.000000\n",
       "25%     13.347500    2.000000    2.000000\n",
       "50%     17.795000    2.900000    2.000000\n",
       "75%     24.127500    3.562500    3.000000\n",
       "max     50.810000   10.000000    6.000000"
      ]
     },
     "execution_count": 10,
     "metadata": {},
     "output_type": "execute_result"
    }
   ],
   "source": [
    "tips.describe()"
   ]
  },
  {
   "cell_type": "markdown",
   "id": "4ee7a579",
   "metadata": {},
   "source": [
    "10.\tUse the describe function to get basic statistics about all attributes. It is okay to have the value NaN shown in some places. "
   ]
  },
  {
   "cell_type": "code",
   "execution_count": 11,
   "id": "22d18b6c",
   "metadata": {},
   "outputs": [
    {
     "data": {
      "text/html": [
       "<div>\n",
       "<style scoped>\n",
       "    .dataframe tbody tr th:only-of-type {\n",
       "        vertical-align: middle;\n",
       "    }\n",
       "\n",
       "    .dataframe tbody tr th {\n",
       "        vertical-align: top;\n",
       "    }\n",
       "\n",
       "    .dataframe thead th {\n",
       "        text-align: right;\n",
       "    }\n",
       "</style>\n",
       "<table border=\"1\" class=\"dataframe\">\n",
       "  <thead>\n",
       "    <tr style=\"text-align: right;\">\n",
       "      <th></th>\n",
       "      <th>total_bill</th>\n",
       "      <th>tip</th>\n",
       "      <th>sex</th>\n",
       "      <th>smoker</th>\n",
       "      <th>day</th>\n",
       "      <th>meal</th>\n",
       "      <th>party size</th>\n",
       "    </tr>\n",
       "  </thead>\n",
       "  <tbody>\n",
       "    <tr>\n",
       "      <th>count</th>\n",
       "      <td>244.000000</td>\n",
       "      <td>244.000000</td>\n",
       "      <td>244</td>\n",
       "      <td>244</td>\n",
       "      <td>244</td>\n",
       "      <td>244</td>\n",
       "      <td>244.000000</td>\n",
       "    </tr>\n",
       "    <tr>\n",
       "      <th>unique</th>\n",
       "      <td>NaN</td>\n",
       "      <td>NaN</td>\n",
       "      <td>2</td>\n",
       "      <td>2</td>\n",
       "      <td>4</td>\n",
       "      <td>2</td>\n",
       "      <td>NaN</td>\n",
       "    </tr>\n",
       "    <tr>\n",
       "      <th>top</th>\n",
       "      <td>NaN</td>\n",
       "      <td>NaN</td>\n",
       "      <td>Male</td>\n",
       "      <td>No</td>\n",
       "      <td>Sat</td>\n",
       "      <td>Dinner</td>\n",
       "      <td>NaN</td>\n",
       "    </tr>\n",
       "    <tr>\n",
       "      <th>freq</th>\n",
       "      <td>NaN</td>\n",
       "      <td>NaN</td>\n",
       "      <td>157</td>\n",
       "      <td>151</td>\n",
       "      <td>87</td>\n",
       "      <td>176</td>\n",
       "      <td>NaN</td>\n",
       "    </tr>\n",
       "    <tr>\n",
       "      <th>mean</th>\n",
       "      <td>19.785943</td>\n",
       "      <td>2.998279</td>\n",
       "      <td>NaN</td>\n",
       "      <td>NaN</td>\n",
       "      <td>NaN</td>\n",
       "      <td>NaN</td>\n",
       "      <td>2.569672</td>\n",
       "    </tr>\n",
       "    <tr>\n",
       "      <th>std</th>\n",
       "      <td>8.902412</td>\n",
       "      <td>1.383638</td>\n",
       "      <td>NaN</td>\n",
       "      <td>NaN</td>\n",
       "      <td>NaN</td>\n",
       "      <td>NaN</td>\n",
       "      <td>0.951100</td>\n",
       "    </tr>\n",
       "    <tr>\n",
       "      <th>min</th>\n",
       "      <td>3.070000</td>\n",
       "      <td>1.000000</td>\n",
       "      <td>NaN</td>\n",
       "      <td>NaN</td>\n",
       "      <td>NaN</td>\n",
       "      <td>NaN</td>\n",
       "      <td>1.000000</td>\n",
       "    </tr>\n",
       "    <tr>\n",
       "      <th>25%</th>\n",
       "      <td>13.347500</td>\n",
       "      <td>2.000000</td>\n",
       "      <td>NaN</td>\n",
       "      <td>NaN</td>\n",
       "      <td>NaN</td>\n",
       "      <td>NaN</td>\n",
       "      <td>2.000000</td>\n",
       "    </tr>\n",
       "    <tr>\n",
       "      <th>50%</th>\n",
       "      <td>17.795000</td>\n",
       "      <td>2.900000</td>\n",
       "      <td>NaN</td>\n",
       "      <td>NaN</td>\n",
       "      <td>NaN</td>\n",
       "      <td>NaN</td>\n",
       "      <td>2.000000</td>\n",
       "    </tr>\n",
       "    <tr>\n",
       "      <th>75%</th>\n",
       "      <td>24.127500</td>\n",
       "      <td>3.562500</td>\n",
       "      <td>NaN</td>\n",
       "      <td>NaN</td>\n",
       "      <td>NaN</td>\n",
       "      <td>NaN</td>\n",
       "      <td>3.000000</td>\n",
       "    </tr>\n",
       "    <tr>\n",
       "      <th>max</th>\n",
       "      <td>50.810000</td>\n",
       "      <td>10.000000</td>\n",
       "      <td>NaN</td>\n",
       "      <td>NaN</td>\n",
       "      <td>NaN</td>\n",
       "      <td>NaN</td>\n",
       "      <td>6.000000</td>\n",
       "    </tr>\n",
       "  </tbody>\n",
       "</table>\n",
       "</div>"
      ],
      "text/plain": [
       "        total_bill         tip   sex smoker  day    meal  party size\n",
       "count   244.000000  244.000000   244    244  244     244  244.000000\n",
       "unique         NaN         NaN     2      2    4       2         NaN\n",
       "top            NaN         NaN  Male     No  Sat  Dinner         NaN\n",
       "freq           NaN         NaN   157    151   87     176         NaN\n",
       "mean     19.785943    2.998279   NaN    NaN  NaN     NaN    2.569672\n",
       "std       8.902412    1.383638   NaN    NaN  NaN     NaN    0.951100\n",
       "min       3.070000    1.000000   NaN    NaN  NaN     NaN    1.000000\n",
       "25%      13.347500    2.000000   NaN    NaN  NaN     NaN    2.000000\n",
       "50%      17.795000    2.900000   NaN    NaN  NaN     NaN    2.000000\n",
       "75%      24.127500    3.562500   NaN    NaN  NaN     NaN    3.000000\n",
       "max      50.810000   10.000000   NaN    NaN  NaN     NaN    6.000000"
      ]
     },
     "execution_count": 11,
     "metadata": {},
     "output_type": "execute_result"
    }
   ],
   "source": [
    "tips.describe(include='all')"
   ]
  },
  {
   "cell_type": "markdown",
   "id": "b1613d0b",
   "metadata": {},
   "source": [
    "11.\tFind the average tip amount. "
   ]
  },
  {
   "cell_type": "code",
   "execution_count": 12,
   "id": "41e22ac8",
   "metadata": {},
   "outputs": [
    {
     "data": {
      "text/plain": [
       "2.99827868852459"
      ]
     },
     "execution_count": 12,
     "metadata": {},
     "output_type": "execute_result"
    }
   ],
   "source": [
    "tip_amount = tips.tip\n",
    "tip_amount.mean()"
   ]
  },
  {
   "cell_type": "markdown",
   "id": "e1466142",
   "metadata": {},
   "source": [
    "12.\tGet basic statistics about the tip column using the describe function. This helps give an idea about the min, max, median values of tip in addition to other basic statistics."
   ]
  },
  {
   "cell_type": "code",
   "execution_count": 13,
   "id": "bdb061d5",
   "metadata": {},
   "outputs": [
    {
     "data": {
      "text/plain": [
       "count    244.000000\n",
       "mean       2.998279\n",
       "std        1.383638\n",
       "min        1.000000\n",
       "25%        2.000000\n",
       "50%        2.900000\n",
       "75%        3.562500\n",
       "max       10.000000\n",
       "Name: tip, dtype: float64"
      ]
     },
     "execution_count": 13,
     "metadata": {},
     "output_type": "execute_result"
    }
   ],
   "source": [
    "tip_amount.describe()"
   ]
  },
  {
   "cell_type": "markdown",
   "id": "65c9fb05",
   "metadata": {},
   "source": [
    "13.\tDraw a boxplot of the tip column. This gives a visual representation of the tips data and shows outliers."
   ]
  },
  {
   "cell_type": "code",
   "execution_count": 14,
   "id": "09a9d338",
   "metadata": {},
   "outputs": [
    {
     "data": {
      "text/plain": [
       "{'whiskers': [<matplotlib.lines.Line2D at 0x10cb3cb3b10>,\n",
       "  <matplotlib.lines.Line2D at 0x10cb3f56e50>],\n",
       " 'caps': [<matplotlib.lines.Line2D at 0x10cb3f22c50>,\n",
       "  <matplotlib.lines.Line2D at 0x10cb3f60710>],\n",
       " 'boxes': [<matplotlib.lines.Line2D at 0x10cb3e45510>],\n",
       " 'medians': [<matplotlib.lines.Line2D at 0x10cb3f61250>],\n",
       " 'fliers': [<matplotlib.lines.Line2D at 0x10cb3f57550>],\n",
       " 'means': []}"
      ]
     },
     "execution_count": 14,
     "metadata": {},
     "output_type": "execute_result"
    },
    {
     "data": {
      "image/png": "[encoded data removed]",
      "text/plain": [
       "<Figure size 640x480 with 1 Axes>"
      ]
     },
     "metadata": {},
     "output_type": "display_data"
    }
   ],
   "source": [
    "import matplotlib.pyplot as plt\n",
    "import numpy as np\n",
    "plt.boxplot(tip_amount)"
   ]
  },
  {
   "cell_type": "markdown",
   "id": "e1467a95",
   "metadata": {},
   "source": [
    "14.\tFrom the boxplot, it looks that the outliers are for tips >= 6. Retrieve the rows where the tip amount is >= 6.  \n"
   ]
  },
  {
   "cell_type": "code",
   "execution_count": 15,
   "id": "0cbdc3fc",
   "metadata": {},
   "outputs": [
    {
     "data": {
      "text/plain": [
       "23      7.58\n",
       "47      6.00\n",
       "59      6.73\n",
       "141     6.70\n",
       "170    10.00\n",
       "183     6.50\n",
       "212     9.00\n",
       "214     6.50\n",
       "Name: tip, dtype: float64"
      ]
     },
     "execution_count": 15,
     "metadata": {},
     "output_type": "execute_result"
    }
   ],
   "source": [
    "tip_amount.loc[tip_amount >= 6]"
   ]
  },
  {
   "cell_type": "markdown",
   "id": "185e1475",
   "metadata": {},
   "source": [
    "Q1. How much tip do customers usually give on average? \n",
    "A1. from the above result, we can see on average customers tip about $3 (i.e., $2.99827868852459)."
   ]
  },
  {
   "cell_type": "markdown",
   "id": "25a481a4",
   "metadata": {},
   "source": [
    "15.\tUse the groupby function to find the average tip amount per sex. i.e., find the average tip by male customers and the average tip by female customers. "
   ]
  },
  {
   "cell_type": "code",
   "execution_count": 16,
   "id": "e6ae8ce6",
   "metadata": {},
   "outputs": [
    {
     "data": {
      "text/plain": [
       "sex\n",
       "Female    2.833448\n",
       "Male      3.089618\n",
       "Name: tip, dtype: float64"
      ]
     },
     "execution_count": 16,
     "metadata": {},
     "output_type": "execute_result"
    }
   ],
   "source": [
    "grouped = tips['tip'].groupby(tips['sex'])\n",
    "grouped.mean()"
   ]
  },
  {
   "cell_type": "markdown",
   "id": "ef57d073",
   "metadata": {},
   "source": [
    "16.\tCreate a DF named males that contains the male samples in the tips DF. Then, call males.sample(10) to draw a random sample of 10 male observations."
   ]
  },
  {
   "cell_type": "code",
   "execution_count": 17,
   "id": "9cc740cf",
   "metadata": {},
   "outputs": [
    {
     "data": {
      "text/html": [
       "<div>\n",
       "<style scoped>\n",
       "    .dataframe tbody tr th:only-of-type {\n",
       "        vertical-align: middle;\n",
       "    }\n",
       "\n",
       "    .dataframe tbody tr th {\n",
       "        vertical-align: top;\n",
       "    }\n",
       "\n",
       "    .dataframe thead th {\n",
       "        text-align: right;\n",
       "    }\n",
       "</style>\n",
       "<table border=\"1\" class=\"dataframe\">\n",
       "  <thead>\n",
       "    <tr style=\"text-align: right;\">\n",
       "      <th></th>\n",
       "      <th>total_bill</th>\n",
       "      <th>tip</th>\n",
       "      <th>sex</th>\n",
       "      <th>smoker</th>\n",
       "      <th>day</th>\n",
       "      <th>meal</th>\n",
       "      <th>party size</th>\n",
       "    </tr>\n",
       "  </thead>\n",
       "  <tbody>\n",
       "    <tr>\n",
       "      <th>41</th>\n",
       "      <td>17.46</td>\n",
       "      <td>2.54</td>\n",
       "      <td>Male</td>\n",
       "      <td>No</td>\n",
       "      <td>Sun</td>\n",
       "      <td>Dinner</td>\n",
       "      <td>2</td>\n",
       "    </tr>\n",
       "    <tr>\n",
       "      <th>97</th>\n",
       "      <td>12.03</td>\n",
       "      <td>1.50</td>\n",
       "      <td>Male</td>\n",
       "      <td>Yes</td>\n",
       "      <td>Fri</td>\n",
       "      <td>Dinner</td>\n",
       "      <td>2</td>\n",
       "    </tr>\n",
       "    <tr>\n",
       "      <th>153</th>\n",
       "      <td>24.55</td>\n",
       "      <td>2.00</td>\n",
       "      <td>Male</td>\n",
       "      <td>No</td>\n",
       "      <td>Sun</td>\n",
       "      <td>Dinner</td>\n",
       "      <td>4</td>\n",
       "    </tr>\n",
       "    <tr>\n",
       "      <th>177</th>\n",
       "      <td>14.48</td>\n",
       "      <td>2.00</td>\n",
       "      <td>Male</td>\n",
       "      <td>Yes</td>\n",
       "      <td>Sun</td>\n",
       "      <td>Dinner</td>\n",
       "      <td>2</td>\n",
       "    </tr>\n",
       "    <tr>\n",
       "      <th>185</th>\n",
       "      <td>20.69</td>\n",
       "      <td>5.00</td>\n",
       "      <td>Male</td>\n",
       "      <td>No</td>\n",
       "      <td>Sun</td>\n",
       "      <td>Dinner</td>\n",
       "      <td>5</td>\n",
       "    </tr>\n",
       "    <tr>\n",
       "      <th>207</th>\n",
       "      <td>38.73</td>\n",
       "      <td>3.00</td>\n",
       "      <td>Male</td>\n",
       "      <td>Yes</td>\n",
       "      <td>Sat</td>\n",
       "      <td>Dinner</td>\n",
       "      <td>4</td>\n",
       "    </tr>\n",
       "    <tr>\n",
       "      <th>42</th>\n",
       "      <td>13.94</td>\n",
       "      <td>3.06</td>\n",
       "      <td>Male</td>\n",
       "      <td>No</td>\n",
       "      <td>Sun</td>\n",
       "      <td>Dinner</td>\n",
       "      <td>2</td>\n",
       "    </tr>\n",
       "    <tr>\n",
       "      <th>184</th>\n",
       "      <td>40.55</td>\n",
       "      <td>3.00</td>\n",
       "      <td>Male</td>\n",
       "      <td>Yes</td>\n",
       "      <td>Sun</td>\n",
       "      <td>Dinner</td>\n",
       "      <td>2</td>\n",
       "    </tr>\n",
       "    <tr>\n",
       "      <th>89</th>\n",
       "      <td>21.16</td>\n",
       "      <td>3.00</td>\n",
       "      <td>Male</td>\n",
       "      <td>No</td>\n",
       "      <td>Thur</td>\n",
       "      <td>Lunch</td>\n",
       "      <td>2</td>\n",
       "    </tr>\n",
       "    <tr>\n",
       "      <th>28</th>\n",
       "      <td>21.70</td>\n",
       "      <td>4.30</td>\n",
       "      <td>Male</td>\n",
       "      <td>No</td>\n",
       "      <td>Sat</td>\n",
       "      <td>Dinner</td>\n",
       "      <td>2</td>\n",
       "    </tr>\n",
       "  </tbody>\n",
       "</table>\n",
       "</div>"
      ],
      "text/plain": [
       "     total_bill   tip   sex smoker   day    meal  party size\n",
       "41        17.46  2.54  Male     No   Sun  Dinner           2\n",
       "97        12.03  1.50  Male    Yes   Fri  Dinner           2\n",
       "153       24.55  2.00  Male     No   Sun  Dinner           4\n",
       "177       14.48  2.00  Male    Yes   Sun  Dinner           2\n",
       "185       20.69  5.00  Male     No   Sun  Dinner           5\n",
       "207       38.73  3.00  Male    Yes   Sat  Dinner           4\n",
       "42        13.94  3.06  Male     No   Sun  Dinner           2\n",
       "184       40.55  3.00  Male    Yes   Sun  Dinner           2\n",
       "89        21.16  3.00  Male     No  Thur   Lunch           2\n",
       "28        21.70  4.30  Male     No   Sat  Dinner           2"
      ]
     },
     "execution_count": 17,
     "metadata": {},
     "output_type": "execute_result"
    }
   ],
   "source": [
    "males = tips.loc[tips.sex=='Male']\n",
    "males.sample(10)"
   ]
  },
  {
   "cell_type": "markdown",
   "id": "d725dfbf",
   "metadata": {},
   "source": [
    "17.\tCreate a DF named females that contains the female samples in the tips DF. Then, call females.sample(frac=0.1, replace = True) to generate and display a random sample with replacement that consists of 10% of the size of the females DF.  "
   ]
  },
  {
   "cell_type": "code",
   "execution_count": 18,
   "id": "2da834e5",
   "metadata": {},
   "outputs": [
    {
     "data": {
      "text/html": [
       "<div>\n",
       "<style scoped>\n",
       "    .dataframe tbody tr th:only-of-type {\n",
       "        vertical-align: middle;\n",
       "    }\n",
       "\n",
       "    .dataframe tbody tr th {\n",
       "        vertical-align: top;\n",
       "    }\n",
       "\n",
       "    .dataframe thead th {\n",
       "        text-align: right;\n",
       "    }\n",
       "</style>\n",
       "<table border=\"1\" class=\"dataframe\">\n",
       "  <thead>\n",
       "    <tr style=\"text-align: right;\">\n",
       "      <th></th>\n",
       "      <th>total_bill</th>\n",
       "      <th>tip</th>\n",
       "      <th>sex</th>\n",
       "      <th>smoker</th>\n",
       "      <th>day</th>\n",
       "      <th>meal</th>\n",
       "      <th>party size</th>\n",
       "    </tr>\n",
       "  </thead>\n",
       "  <tbody>\n",
       "    <tr>\n",
       "      <th>111</th>\n",
       "      <td>7.25</td>\n",
       "      <td>1.00</td>\n",
       "      <td>Female</td>\n",
       "      <td>No</td>\n",
       "      <td>Sat</td>\n",
       "      <td>Dinner</td>\n",
       "      <td>1</td>\n",
       "    </tr>\n",
       "    <tr>\n",
       "      <th>186</th>\n",
       "      <td>20.90</td>\n",
       "      <td>3.50</td>\n",
       "      <td>Female</td>\n",
       "      <td>Yes</td>\n",
       "      <td>Sun</td>\n",
       "      <td>Dinner</td>\n",
       "      <td>3</td>\n",
       "    </tr>\n",
       "    <tr>\n",
       "      <th>124</th>\n",
       "      <td>12.48</td>\n",
       "      <td>2.52</td>\n",
       "      <td>Female</td>\n",
       "      <td>No</td>\n",
       "      <td>Thur</td>\n",
       "      <td>Lunch</td>\n",
       "      <td>2</td>\n",
       "    </tr>\n",
       "    <tr>\n",
       "      <th>103</th>\n",
       "      <td>22.42</td>\n",
       "      <td>3.48</td>\n",
       "      <td>Female</td>\n",
       "      <td>Yes</td>\n",
       "      <td>Sat</td>\n",
       "      <td>Dinner</td>\n",
       "      <td>2</td>\n",
       "    </tr>\n",
       "    <tr>\n",
       "      <th>243</th>\n",
       "      <td>18.78</td>\n",
       "      <td>3.00</td>\n",
       "      <td>Female</td>\n",
       "      <td>No</td>\n",
       "      <td>Thur</td>\n",
       "      <td>Dinner</td>\n",
       "      <td>2</td>\n",
       "    </tr>\n",
       "    <tr>\n",
       "      <th>178</th>\n",
       "      <td>9.60</td>\n",
       "      <td>4.00</td>\n",
       "      <td>Female</td>\n",
       "      <td>Yes</td>\n",
       "      <td>Sun</td>\n",
       "      <td>Dinner</td>\n",
       "      <td>2</td>\n",
       "    </tr>\n",
       "    <tr>\n",
       "      <th>157</th>\n",
       "      <td>25.00</td>\n",
       "      <td>3.75</td>\n",
       "      <td>Female</td>\n",
       "      <td>No</td>\n",
       "      <td>Sun</td>\n",
       "      <td>Dinner</td>\n",
       "      <td>4</td>\n",
       "    </tr>\n",
       "    <tr>\n",
       "      <th>73</th>\n",
       "      <td>25.28</td>\n",
       "      <td>5.00</td>\n",
       "      <td>Female</td>\n",
       "      <td>Yes</td>\n",
       "      <td>Sat</td>\n",
       "      <td>Dinner</td>\n",
       "      <td>2</td>\n",
       "    </tr>\n",
       "    <tr>\n",
       "      <th>168</th>\n",
       "      <td>10.59</td>\n",
       "      <td>1.61</td>\n",
       "      <td>Female</td>\n",
       "      <td>Yes</td>\n",
       "      <td>Sat</td>\n",
       "      <td>Dinner</td>\n",
       "      <td>2</td>\n",
       "    </tr>\n",
       "  </tbody>\n",
       "</table>\n",
       "</div>"
      ],
      "text/plain": [
       "     total_bill   tip     sex smoker   day    meal  party size\n",
       "111        7.25  1.00  Female     No   Sat  Dinner           1\n",
       "186       20.90  3.50  Female    Yes   Sun  Dinner           3\n",
       "124       12.48  2.52  Female     No  Thur   Lunch           2\n",
       "103       22.42  3.48  Female    Yes   Sat  Dinner           2\n",
       "243       18.78  3.00  Female     No  Thur  Dinner           2\n",
       "178        9.60  4.00  Female    Yes   Sun  Dinner           2\n",
       "157       25.00  3.75  Female     No   Sun  Dinner           4\n",
       "73        25.28  5.00  Female    Yes   Sat  Dinner           2\n",
       "168       10.59  1.61  Female    Yes   Sat  Dinner           2"
      ]
     },
     "execution_count": 18,
     "metadata": {},
     "output_type": "execute_result"
    }
   ],
   "source": [
    "females = tips.loc[tips.sex=='Female']\n",
    "females.sample(frac=0.1, replace = True)"
   ]
  },
  {
   "cell_type": "markdown",
   "id": "ee6e5cd4",
   "metadata": {},
   "source": [
    "18.\tWrite code to find out the number of male customers and the number of female customers."
   ]
  },
  {
   "cell_type": "code",
   "execution_count": 19,
   "id": "2464862a",
   "metadata": {},
   "outputs": [
    {
     "name": "stdout",
     "output_type": "stream",
     "text": [
      "number of male customers:  157 \n",
      "number of female customers:  87\n"
     ]
    }
   ],
   "source": [
    "num_males = len(males)\n",
    "num_females = len(females)\n",
    "print(\"number of male customers: \", num_males, \n",
    "      \"\\nnumber of female customers: \", num_females)"
   ]
  },
  {
   "cell_type": "markdown",
   "id": "c7ca1ae8",
   "metadata": {},
   "source": [
    "19.\tCreate a bar chart comparing the number of males and number of females in the dataset. Give labels to the x-axis, y-axis, and a title to the plot."
   ]
  },
  {
   "cell_type": "code",
   "execution_count": 20,
   "id": "4821ba30",
   "metadata": {},
   "outputs": [
    {
     "data": {
      "text/plain": [
       "Text(0, 0.5, 'Number of Customers')"
      ]
     },
     "execution_count": 20,
     "metadata": {},
     "output_type": "execute_result"
    },
    {
     "data": {
      "image/png": "[encoded data removed]",
      "text/plain": [
       "<Figure size 640x480 with 1 Axes>"
      ]
     },
     "metadata": {},
     "output_type": "display_data"
    }
   ],
   "source": [
    "gender = ['Male', 'Female']\n",
    "num_customers = [num_males, num_females]\n",
    "plt.bar(gender, num_customers)\n",
    "plt.title('Comparing Number of Customers Based on Gender')\n",
    "plt.xlabel('Gender')\n",
    "plt.ylabel('Number of Customers')"
   ]
  },
  {
   "cell_type": "markdown",
   "id": "198c5f5f",
   "metadata": {},
   "source": [
    "20.\tDraw a scatter plot of the tips given by male customers and a scatter plot of the tips given by female customers."
   ]
  },
  {
   "cell_type": "code",
   "execution_count": 21,
   "id": "8dace9a8",
   "metadata": {},
   "outputs": [
    {
     "data": {
      "text/plain": [
       "<matplotlib.legend.Legend at 0x10cb3138c50>"
      ]
     },
     "execution_count": 21,
     "metadata": {},
     "output_type": "execute_result"
    },
    {
     "data": {
      "image/png": "[encoded data removed]",
      "text/plain": [
       "<Figure size 640x480 with 1 Axes>"
      ]
     },
     "metadata": {},
     "output_type": "display_data"
    }
   ],
   "source": [
    "x1 = np.arange(0, num_males)\n",
    "plt.scatter(x1, males['tip'], label = 'male', color = \"r\", marker = \"+\")\n",
    "x2 = np.arange(0, num_females)\n",
    "plt.scatter(x2, females['tip'], label = 'female', color = 'b', marker = '*')\n",
    "plt.legend(loc='upper left')"
   ]
  },
  {
   "cell_type": "markdown",
   "id": "04872397",
   "metadata": {},
   "source": [
    "21.\t Draw two box plots to show tips per sex. One box plot to show the tips by females while the other to shows tips by males. Show both plots in the same area."
   ]
  },
  {
   "cell_type": "code",
   "execution_count": 22,
   "id": "6d516a89",
   "metadata": {},
   "outputs": [
    {
     "data": {
      "text/plain": [
       "Text(0, 0.5, 'Tip')"
      ]
     },
     "execution_count": 22,
     "metadata": {},
     "output_type": "execute_result"
    },
    {
     "data": {
      "image/png": "[encoded data removed]",
      "text/plain": [
       "<Figure size 640x480 with 1 Axes>"
      ]
     },
     "metadata": {},
     "output_type": "display_data"
    }
   ],
   "source": [
    "tip_by_gender = [females.tip, males.tip]\n",
    "plt.boxplot(tip_by_gender, labels = ['Female', 'Male'])\n",
    "plt.title('Boxplots of Tips by Gender')\n",
    "plt.xlabel('Gender')\n",
    "plt.ylabel('Tip')"
   ]
  },
  {
   "cell_type": "code",
   "execution_count": 23,
   "id": "bf348df3",
   "metadata": {},
   "outputs": [
    {
     "data": {
      "text/plain": [
       "23      7.58\n",
       "47      6.00\n",
       "59      6.73\n",
       "141     6.70\n",
       "170    10.00\n",
       "183     6.50\n",
       "212     9.00\n",
       "Name: tip, dtype: float64"
      ]
     },
     "execution_count": 23,
     "metadata": {},
     "output_type": "execute_result"
    }
   ],
   "source": [
    "males.tip.loc[tip_amount >= 6]\n"
   ]
  },
  {
   "cell_type": "markdown",
   "id": "f7fe5f01",
   "metadata": {},
   "source": [
    "### Q2. Do male customers usually give more tip than female customers? \n",
    "\n",
    "### A2. Yes, on average, female customers tip about 2.83 dollars whereas male customers tip about 3.09 dollars. However, there are more outliers in male customers, meaning they would impact increasing the average tip amount of male customers."
   ]
  },
  {
   "cell_type": "markdown",
   "id": "d0e81334",
   "metadata": {},
   "source": [
    "22.\tApply the describe function on the “day” column of the tips DF and observe the result."
   ]
  },
  {
   "cell_type": "code",
   "execution_count": 24,
   "id": "2961e4d9",
   "metadata": {},
   "outputs": [
    {
     "data": {
      "text/plain": [
       "count     244\n",
       "unique      4\n",
       "top       Sat\n",
       "freq       87\n",
       "Name: day, dtype: object"
      ]
     },
     "execution_count": 24,
     "metadata": {},
     "output_type": "execute_result"
    }
   ],
   "source": [
    "tips.day.describe()"
   ]
  },
  {
   "cell_type": "markdown",
   "id": "976e1c78",
   "metadata": {},
   "source": [
    "23.\tUse the groupby function to form groups based on the days of the week. The result of this shows the number of customers that were served every day. "
   ]
  },
  {
   "cell_type": "code",
   "execution_count": 25,
   "id": "1b409283",
   "metadata": {},
   "outputs": [
    {
     "data": {
      "text/html": [
       "<div>\n",
       "<style scoped>\n",
       "    .dataframe tbody tr th:only-of-type {\n",
       "        vertical-align: middle;\n",
       "    }\n",
       "\n",
       "    .dataframe tbody tr th {\n",
       "        vertical-align: top;\n",
       "    }\n",
       "\n",
       "    .dataframe thead th {\n",
       "        text-align: right;\n",
       "    }\n",
       "</style>\n",
       "<table border=\"1\" class=\"dataframe\">\n",
       "  <thead>\n",
       "    <tr style=\"text-align: right;\">\n",
       "      <th></th>\n",
       "      <th>total_bill</th>\n",
       "      <th>tip</th>\n",
       "      <th>sex</th>\n",
       "      <th>smoker</th>\n",
       "      <th>meal</th>\n",
       "      <th>party size</th>\n",
       "    </tr>\n",
       "    <tr>\n",
       "      <th>day</th>\n",
       "      <th></th>\n",
       "      <th></th>\n",
       "      <th></th>\n",
       "      <th></th>\n",
       "      <th></th>\n",
       "      <th></th>\n",
       "    </tr>\n",
       "  </thead>\n",
       "  <tbody>\n",
       "    <tr>\n",
       "      <th>Fri</th>\n",
       "      <td>19</td>\n",
       "      <td>19</td>\n",
       "      <td>19</td>\n",
       "      <td>19</td>\n",
       "      <td>19</td>\n",
       "      <td>19</td>\n",
       "    </tr>\n",
       "    <tr>\n",
       "      <th>Sat</th>\n",
       "      <td>87</td>\n",
       "      <td>87</td>\n",
       "      <td>87</td>\n",
       "      <td>87</td>\n",
       "      <td>87</td>\n",
       "      <td>87</td>\n",
       "    </tr>\n",
       "    <tr>\n",
       "      <th>Sun</th>\n",
       "      <td>76</td>\n",
       "      <td>76</td>\n",
       "      <td>76</td>\n",
       "      <td>76</td>\n",
       "      <td>76</td>\n",
       "      <td>76</td>\n",
       "    </tr>\n",
       "    <tr>\n",
       "      <th>Thur</th>\n",
       "      <td>62</td>\n",
       "      <td>62</td>\n",
       "      <td>62</td>\n",
       "      <td>62</td>\n",
       "      <td>62</td>\n",
       "      <td>62</td>\n",
       "    </tr>\n",
       "  </tbody>\n",
       "</table>\n",
       "</div>"
      ],
      "text/plain": [
       "      total_bill  tip  sex  smoker  meal  party size\n",
       "day                                                 \n",
       "Fri           19   19   19      19    19          19\n",
       "Sat           87   87   87      87    87          87\n",
       "Sun           76   76   76      76    76          76\n",
       "Thur          62   62   62      62    62          62"
      ]
     },
     "execution_count": 25,
     "metadata": {},
     "output_type": "execute_result"
    }
   ],
   "source": [
    "tips.groupby(tips['day']).count()\n"
   ]
  },
  {
   "cell_type": "markdown",
   "id": "38c481f7",
   "metadata": {},
   "source": [
    "24.\tWrite code to find the number of customers served every day. Store the result in variable(s)."
   ]
  },
  {
   "cell_type": "code",
   "execution_count": 26,
   "id": "783c3d01",
   "metadata": {},
   "outputs": [],
   "source": [
    "num_per_day = tips['day'].groupby(tips['day']).count()\n",
    "num_per_day #this print the number of customers for each day\n",
    "\n",
    "#store the results for each day in variables\n",
    "num_thur = num_per_day.loc['Thur']\n",
    "num_fri = num_per_day.loc['Fri']\n",
    "num_sat = num_per_day.loc['Sat']\n",
    "num_sun = num_per_day.loc['Sun']"
   ]
  },
  {
   "cell_type": "markdown",
   "id": "ccd12f5f",
   "metadata": {},
   "source": [
    "25.\tDraw a line plot that shows number of customers served every day. "
   ]
  },
  {
   "cell_type": "code",
   "execution_count": 27,
   "id": "6c4df5b8",
   "metadata": {},
   "outputs": [
    {
     "data": {
      "text/plain": [
       "Text(0, 0.5, 'Number of Customers')"
      ]
     },
     "execution_count": 27,
     "metadata": {},
     "output_type": "execute_result"
    },
    {
     "data": {
      "image/png": "[encoded data removed]",
      "text/plain": [
       "<Figure size 640x480 with 1 Axes>"
      ]
     },
     "metadata": {},
     "output_type": "display_data"
    }
   ],
   "source": [
    "x = np.arange(0, len(num_per_day))\n",
    "pd.data = [num_thur, num_fri, num_sat, num_sun]\n",
    "plt.plot(x, pd.data)\n",
    "plt.xticks([0.0,1.0,2.0,3.0],[\"Thursday\",'Friday',\"Saturday\",\"Sunday\"])\n",
    "plt.grid(True)\n",
    "plt.title('Number of Customers Per Day')\n",
    "plt.xlabel('Day')\n",
    "plt.ylabel('Number of Customers')"
   ]
  },
  {
   "cell_type": "markdown",
   "id": "30abcc3f",
   "metadata": {},
   "source": [
    "Q3. What day(s) of the week is the restaurant the busiest?\n",
    "A3. Saturday is the busiest day for the restaurant, followed by Sunday as the second busiest day."
   ]
  },
  {
   "cell_type": "markdown",
   "id": "67749e96",
   "metadata": {},
   "source": [
    "26.\tUse the groupby function to find the average tip per day. Store these averages in variables. These variables will be used next to display the averages in plots. "
   ]
  },
  {
   "cell_type": "code",
   "execution_count": 28,
   "id": "3b557a59",
   "metadata": {},
   "outputs": [
    {
     "data": {
      "text/plain": [
       "day\n",
       "Fri     2.734737\n",
       "Sat     2.993103\n",
       "Sun     3.255132\n",
       "Thur    2.771452\n",
       "Name: tip, dtype: float64"
      ]
     },
     "execution_count": 28,
     "metadata": {},
     "output_type": "execute_result"
    }
   ],
   "source": [
    "avg_tip_per_day = tips['tip'].groupby(tips['day']).mean()\n",
    "avg_tip_per_day #this print the average tip per day"
   ]
  },
  {
   "cell_type": "code",
   "execution_count": 29,
   "id": "e0a32a00",
   "metadata": {},
   "outputs": [],
   "source": [
    "#store the results for each day in variables\n",
    "thur_tip = avg_tip_per_day.loc['Thur']\n",
    "fri_tip = avg_tip_per_day.loc['Fri']\n",
    "sat_tip = avg_tip_per_day.loc['Sat']\n",
    "sun_tip = avg_tip_per_day.loc['Sun']"
   ]
  },
  {
   "cell_type": "markdown",
   "id": "7e02546e",
   "metadata": {},
   "source": [
    "27.\tDraw a figure with 2 by 2 subplots. Each subplot shows a line plot of the tips given on a certain day. Show the average tip in each subplot. "
   ]
  },
  {
   "cell_type": "code",
   "execution_count": 30,
   "id": "377401fa",
   "metadata": {},
   "outputs": [],
   "source": [
    "tips['number'] = np.arange(0, len(tips.index))"
   ]
  },
  {
   "cell_type": "code",
   "execution_count": 31,
   "id": "9781bd10",
   "metadata": {},
   "outputs": [
    {
     "data": {
      "image/png": "[encoded data removed]",
      "text/plain": [
       "<Figure size 640x480 with 4 Axes>"
      ]
     },
     "metadata": {},
     "output_type": "display_data"
    },
    {
     "data": {
      "text/plain": [
       "<Figure size 800x800 with 0 Axes>"
      ]
     },
     "metadata": {},
     "output_type": "display_data"
    }
   ],
   "source": [
    "tips_1 = tips[tips['day']=='Thur']\n",
    "tips_2 = tips[tips['day']=='Fri']\n",
    "tips_3 = tips[tips['day']=='Sat']\n",
    "tips_4 = tips[tips['day']=='Sun']\n",
    "fig = plt.figure()\n",
    "\n",
    "axes1 = fig.add_subplot(2, 2, 1)\n",
    "axes2 = fig.add_subplot(2, 2, 2)\n",
    "axes3 = fig.add_subplot(2, 2, 3)\n",
    "axes4 = fig.add_subplot(2, 2, 4)\n",
    "\n",
    "axes1.plot(0, thur_tip, 'r*')\n",
    "axes2.plot(0, fri_tip, 'r*')\n",
    "axes3.plot(0, sat_tip, 'r*')\n",
    "axes4.plot(0, sun_tip, 'r*')\n",
    "\n",
    "axes1.plot(tips_1['number'], tips_1['tip'])\n",
    "axes2.plot(tips_2['number'], tips_2['tip'])\n",
    "axes3.plot(tips_3['number'], tips_3['tip'])\n",
    "axes4.plot(tips_4['number'], tips_4['tip'])\n",
    "plt.figure(figsize=(8, 8))\n",
    "\n",
    "axes1.set_title(\"Thursday\")\n",
    "axes2.set_title(\"Friday\")\n",
    "axes3.set_title(\"Saturday\")\n",
    "axes4.set_title(\"Sunday\")\n",
    "\n",
    "fig.suptitle(\"Tips Given on Different Days\", color=\"red\")\n",
    "\n",
    "fig.tight_layout()"
   ]
  },
  {
   "cell_type": "markdown",
   "id": "077fb1bc",
   "metadata": {},
   "source": [
    "28.\tDraw a pie chart to compare the total tip amounts collected on the different days."
   ]
  },
  {
   "cell_type": "code",
   "execution_count": 32,
   "id": "1f720683",
   "metadata": {},
   "outputs": [
    {
     "data": {
      "text/plain": [
       "([<matplotlib.patches.Wedge at 0x10cb5b33e90>,\n",
       "  <matplotlib.patches.Wedge at 0x10cb5b71a50>,\n",
       "  <matplotlib.patches.Wedge at 0x10cb5b73290>,\n",
       "  <matplotlib.patches.Wedge at 0x10cb5b80b50>],\n",
       " [Text(1.0727306693142526, 0.24341099217700865, 'Fri'),\n",
       "  Text(0.0069438104089625365, 1.09997808318939, 'Sat'),\n",
       "  Text(-0.905707335693233, -0.62425493355797, 'Sun'),\n",
       "  Text(0.8138842536869884, -0.739994879441996, 'Thur')],\n",
       " [Text(0.5851258196259559, 0.13276963209655016, '7.10%'),\n",
       "  Text(0.0037875329503432014, 0.5999880453760308, '35.59%'),\n",
       "  Text(-0.4940221831053998, -0.34050269103162, '33.82%'),\n",
       "  Text(0.44393686564744816, -0.40363357060472504, '23.49%')])"
      ]
     },
     "execution_count": 32,
     "metadata": {},
     "output_type": "execute_result"
    },
    {
     "data": {
      "image/png": "[encoded data removed]",
      "text/plain": [
       "<Figure size 640x480 with 1 Axes>"
      ]
     },
     "metadata": {},
     "output_type": "display_data"
    }
   ],
   "source": [
    "sum_tips = tips['tip'].groupby(tips['day']).sum()\n",
    "labels = [\"Fri\", \"Sat\", \"Sun\", \"Thur\"]\n",
    "plt.pie(sum_tips, labels = labels, autopct = '%0.2f%%', aspect = 'equal')"
   ]
  },
  {
   "cell_type": "markdown",
   "id": "a20a2b18",
   "metadata": {},
   "source": [
    "### Q4. Do customers tend to give more tips on certain days?\n",
    "\n",
    "### A4. Yes, customers, on average, give more tips on Sunday (approximately 3.26 dolloars), followed by Saturday (approximately 2.99 dollars). \n",
    "### They are higher than the tips on Friday (approximately 2.74 dollars) and Thursday (approximately 2.77 dollars)."
   ]
  }
 ],
 "metadata": {
  "kernelspec": {
   "display_name": "Python 3 (ipykernel)",
   "language": "python",
   "name": "python3"
  },
  "language_info": {
   "codemirror_mode": {
    "name": "ipython",
    "version": 3
   },
   "file_extension": ".py",
   "mimetype": "text/x-python",
   "name": "python",
   "nbconvert_exporter": "python",
   "pygments_lexer": "ipython3",
   "version": "3.11.3"
  }
 },
 "nbformat": 4,
 "nbformat_minor": 5
}
