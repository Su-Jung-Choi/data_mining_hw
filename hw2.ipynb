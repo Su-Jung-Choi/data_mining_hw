{
 "cells": [
  {
   "cell_type": "markdown",
   "id": "4426bc9f",
   "metadata": {},
   "source": [
    "# CSC635_HW2_Sujung Choi"
   ]
  },
  {
   "cell_type": "markdown",
   "id": "4529f611",
   "metadata": {},
   "source": [
    "<Partial Implementing of the ID3 Decision Tree Induction Algorithm>\n",
    "#This program works to find the best test attribute at the root of the tree.\n",
    "\n",
    "#Instruction: Sample input file 'input.csv' file is used in this code. You may load different input csv file you want to test on by assigning that to data_filename below."
   ]
  },
  {
   "cell_type": "code",
   "execution_count": 17,
   "id": "c0b87a89",
   "metadata": {},
   "outputs": [],
   "source": [
    "import pandas as pd\n",
    "import math\n",
    "\n",
    "#load the dataset\n",
    "data_filename = 'input.csv' #modify here to test on different input file\n",
    "test_input = pd.read_csv(data_filename)\n"
   ]
  },
  {
   "cell_type": "code",
   "execution_count": 18,
   "id": "59fc5d83",
   "metadata": {},
   "outputs": [],
   "source": [
    "#find the entropy of the class labels\n",
    "entropy = 0\n",
    "labels = test_input.iloc[:, -1] #assume last column is the class labels\n",
    "array = labels.unique() #find unique values of the class lables\n",
    "\n",
    "for ele in array: \n",
    "        c = len(labels[labels == ele]) #count the number of values of each class label\n",
    "        pr = c / len(labels) #divide it by the total number of class labels to find probability\n",
    "        entropy -= pr * (math.log2(pr)) #calculate the entropy\n"
   ]
  },
  {
   "cell_type": "code",
   "execution_count": 19,
   "id": "c235362c",
   "metadata": {},
   "outputs": [],
   "source": [
    "#extract all the other columns except the last column\n",
    "except_last_col = test_input.iloc[:, :-1]\n",
    "\n",
    "temp = [] #create an empty temporary list to append information gain later\n",
    "\n",
    "#find entropy for current test attribute\n",
    "for col in range(0, len(except_last_col.columns)):\n",
    "    each_col = except_last_col.iloc[:, col] #get each column one by one\n",
    "    new_array = each_col.unique() #find unique values for each column\n",
    "    \n",
    "    entropy_for_attr = 0 #entropy for each column (i.e., each attribute)      \n",
    "    for val in new_array:    \n",
    "        val_labels = labels[each_col == val] #assign val_labels to values that match with each class labels in a column\n",
    "        \n",
    "        val_entropy = 0 #entropy for each value (i.e., information) within each attribute\n",
    "        for ele in array:       \n",
    "            t = len(val_labels[val_labels == ele]) #count different values that match with each class lables\n",
    "            pr1 = t / len(val_labels) #divide it by the length of val_labels to find probability        \n",
    "\n",
    "            if pr1 == 0:\n",
    "                val_entropy = 0\n",
    "            else:\n",
    "                val_entropy -= pr1 * (math.log2(pr1))\n",
    "\n",
    "        unique_val = each_col[each_col == val] #find how many each unique value exists in the current column\n",
    "\n",
    "        t1 = len(unique_val)/len(each_col) #number of each attribute divided by total number of the column length\n",
    "\n",
    "        entropy_for_attr += t1 * val_entropy #calculate entropy for each attribute\n",
    "    \n",
    "    IG = entropy - entropy_for_attr #calculate the Information Gain from the entropy of different attributes\n",
    "\n",
    "    temp.append(IG) #append IG to temporary list\n",
    "\n"
   ]
  },
  {
   "cell_type": "code",
   "execution_count": 20,
   "id": "27249292",
   "metadata": {},
   "outputs": [
    {
     "name": "stdout",
     "output_type": "stream",
     "text": [
      "Best test attribute is Level\n",
      "Information gained by splitting on Level is 0.247\n"
     ]
    }
   ],
   "source": [
    "#find the best test attribute and its information gained\n",
    "\n",
    "best_attr = \"\" #set a variable for the best test attribute\n",
    "attr_names = except_last_col.columns.values.tolist() #get a list of column names (i.e., attribute names)\n",
    "\n",
    "max_info_gain = 0 #set a variable for the maximum IG\n",
    "for i in range(0, len(temp)-1):\n",
    "    if temp[i] > max_info_gain:\n",
    "        #if the IG in temp[i] is greater than current max_info_gain, swap it to become new max_info_gain\n",
    "        max_info_gain = round(temp[i], 3) #round the value of IG to three digits after the decimal point \n",
    "        best_attr = attr_names[i] #find the name of attribute that has maximum IG in ith index\n",
    "\n",
    "#display output\n",
    "print(\"Best test attribute is\", best_attr)\n",
    "print(\"Information gained by splitting on\", best_attr, \"is\", max_info_gain)\n"
   ]
  },
  {
   "cell_type": "code",
   "execution_count": null,
   "id": "e8ec3833",
   "metadata": {},
   "outputs": [],
   "source": []
  }
 ],
 "metadata": {
  "kernelspec": {
   "display_name": "Python 3 (ipykernel)",
   "language": "python",
   "name": "python3"
  },
  "language_info": {
   "codemirror_mode": {
    "name": "ipython",
    "version": 3
   },
   "file_extension": ".py",
   "mimetype": "text/x-python",
   "name": "python",
   "nbconvert_exporter": "python",
   "pygments_lexer": "ipython3",
   "version": "3.10.2"
  }
 },
 "nbformat": 4,
 "nbformat_minor": 5
}
